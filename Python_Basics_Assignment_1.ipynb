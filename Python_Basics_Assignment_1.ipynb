{
  "nbformat": 4,
  "nbformat_minor": 0,
  "metadata": {
    "colab": {
      "provenance": []
    },
    "kernelspec": {
      "name": "python3",
      "display_name": "Python 3"
    },
    "language_info": {
      "name": "python"
    }
  },
  "cells": [
    {
      "cell_type": "markdown",
      "source": [
        "# PYTHON ASSIGNMENT 1"
      ],
      "metadata": {
        "id": "EHqX7vJCPOiG"
      }
    },
    {
      "cell_type": "markdown",
      "source": [
        "#Python Basics Questions"
      ],
      "metadata": {
        "id": "_Ui03sMN58RN"
      }
    },
    {
      "cell_type": "markdown",
      "source": [
        "1. What is Python, and why is it popular?\n",
        "\n",
        "   - Python is a high level, interpreted programming language known for its simplicity and readability. It is widely used in various domains such as data analytics, web development, artificial intelligence, and automation. The main reason Python is popular is its easy to understand syntax, which is similar to plain English, which makes it beginner friendly."
      ],
      "metadata": {
        "id": "wxiO9rD_6D9P"
      }
    },
    {
      "cell_type": "markdown",
      "source": [
        "2. What is an interpreter in Python?\n",
        "\n",
        "   - An interpreter in python translates and executes the code line by line, during runtime.\n",
        "\n",
        "   > Execution: Reads and executes the code, one statement at a time.\n",
        "   > Speed: Slower, because tranalation happens during execution .\n",
        "   > Error Handling: Stops at the first error and shows it immediately."
      ],
      "metadata": {
        "id": "mgz8NJQy7H2F"
      }
    },
    {
      "cell_type": "markdown",
      "source": [
        "3. What are pre-defined keywords in Python?\n",
        "\n",
        "   - Pre-defined keywords in python are the reserved words that already have a fixed meaning. We cannot/should not use them as variable names. They are used to define the rules and structure of the program. Some examples are if, else, while, for, true, false."
      ],
      "metadata": {
        "id": "22N7YV1f9lkf"
      }
    },
    {
      "cell_type": "markdown",
      "source": [
        "4.  Can keywords be used as variable names?\n",
        "\n",
        "      - No, keywords cannot be used as variable names in python because they are reserved words with special meanings. If we try to use them as variables, it will cause an error. For example, using if = 5 is not allowed since if is a keyword."
      ],
      "metadata": {
        "id": "Su_L1obZAkAX"
      }
    },
    {
      "cell_type": "markdown",
      "source": [
        "5. What is mutability in Python?\n",
        "\n",
        "   - Mutability in python means the ability of an object to change its value after creation. Mutable objects can be modified like lists and dictionaries. Immutable objects such as strings and tuples cannot be changed once created. Instead of it a new object is formed when we try to modify them."
      ],
      "metadata": {
        "id": "EK3GT58HBUjk"
      }
    },
    {
      "cell_type": "markdown",
      "source": [
        "6.  Why are lists mutable, but tuples are immutable?\n",
        "\n",
        "     - Lists are mutable because their elements can be changed anytime, like adding, removing, or updating values. Tuples are immutable which means once they are created, their elements cannot be changed. This is because lists are designed for handling flexible data, while tuples are meant for fixed, constant data."
      ],
      "metadata": {
        "id": "y6oDoa7EcQIO"
      }
    },
    {
      "cell_type": "markdown",
      "source": [
        "7.  What is the difference between “==” and “is” operators in Python?\n",
        "\n",
        "     - The == operator is used to compare values. If two objects have the same content, it will return true, even if they are stored separately. The is operator checks if both objects are exactly the same in memory. So, == means same value, while is means same object."
      ],
      "metadata": {
        "id": "iBX5XjULC20O"
      }
    },
    {
      "cell_type": "markdown",
      "source": [
        "8. What are logical operators in Python?\n",
        "\n",
        "     -> Logical operators in python help us to join conditions and make decisions in a program. There are three main operators:\n",
        "\n",
        "      > and: It gives True only when both conditions are True, otherwise it gives False.\n",
        "\n",
        "      > or: It gives True if at least one condition is True.\n",
        "\n",
        "      > not: It reverses the result, True becomes False and False becomes True.\n",
        "\n",
        "     For example, if x = 5 and y = 10, then x < 10 and y > 5 will be True, x > 10 or y > 5 will also be True, but not (x > 2) will be False."
      ],
      "metadata": {
        "id": "Yw4jBtcUHOPZ"
      }
    },
    {
      "cell_type": "markdown",
      "source": [
        "9. What is type casting in Python?\n",
        "\n",
        "   - Type casting in python means changing one data type into another. For example, converting an integer into a string, or a float into an integer. It is done using functions like int(), float(), and str(). This helps in using data in the required format."
      ],
      "metadata": {
        "id": "bqzgWKyPH-L2"
      }
    },
    {
      "cell_type": "markdown",
      "source": [
        "10. What is the difference between implicit and explicit type casting?\n",
        "\n",
        "     - Implicit type casting happens automatically when python changes one data type into another, usually from smaller to larger type, like int to float. Explicit type casting is done by the programmer or we can say that when a person who is writing the code does the casting using functions like int(), float(), or str() to manually convert one type into another."
      ],
      "metadata": {
        "id": "htP-yw1rI8c7"
      }
    },
    {
      "cell_type": "markdown",
      "source": [
        "11. What is the purpose of conditional statements in Python?\n",
        "\n",
        "     - Conditional statements in python are used to make decisions in a program. They let the code do different actions based on whether a condition is True or False. The main types are if, elif, and else, which help the program choose what to do or what output to give in different situations."
      ],
      "metadata": {
        "id": "lb8vwfqRKfhD"
      }
    },
    {
      "cell_type": "markdown",
      "source": [
        "12. How does the elif statement work?\n",
        "\n",
        "     - The elif statement in python works after an if statement. It checks another condition only if the previous if condition was False. If the elif condition is True, its runs that. We can have multiple elif statements between if and else to check different conditions one by one."
      ],
      "metadata": {
        "id": "3a1UOVakLlj_"
      }
    },
    {
      "cell_type": "markdown",
      "source": [
        "13. What is the difference between for and while loops?\n",
        "\n",
        "     - A for loop in python runs a block of code a fixed number of times, usually over a sequence like a list, string, or range. A while loop runs a block of code as long as a condition is True, so the number of times it runs is not fixed and depends on the condition.\n",
        "\n",
        "       We  can also say that for loop is used when we know in advance that how many times we want to repeat something, like going through items in a list or numbers in a range. A while loop is used when we don’t know exactly how many times it will run. It keeps repeating as long as a condition is True."
      ],
      "metadata": {
        "id": "dQvB4yiwMc6s"
      }
    },
    {
      "cell_type": "markdown",
      "source": [
        "14. Describe a scenario where a while loop is more suitable than a for loop.\n",
        "\n",
        "     - A while loop is more suitable when we don’t know in advance how many times we need to repeat a task. For example, imagine we are making a login system that asks the user to enter a password. We don’t know how many times the user will enter it wrong, so we keep asking while the password is wrong. Once it is correct, the loop stops. This way the program can handle any number of attempts without knowing it."
      ],
      "metadata": {
        "id": "p0WOj8yKNoa3"
      }
    },
    {
      "cell_type": "markdown",
      "source": [
        "# Practical Questions"
      ],
      "metadata": {
        "id": "f8In2_IUPHdJ"
      }
    },
    {
      "cell_type": "code",
      "source": [
        "# Question 1: Write a Python program to print \"Hello, World!\"\n",
        "\n",
        "print(\"Hello, World!\")\n"
      ],
      "metadata": {
        "colab": {
          "base_uri": "https://localhost:8080/"
        },
        "id": "gzD7RmyQNkky",
        "outputId": "69cbd5df-18a3-4b9f-df7a-71076ac5c779"
      },
      "execution_count": null,
      "outputs": [
        {
          "output_type": "stream",
          "name": "stdout",
          "text": [
            "Hello, World!\n"
          ]
        }
      ]
    },
    {
      "cell_type": "code",
      "source": [
        "# Question 2: Write a Python program that displays your name and age\n",
        "\n",
        "name = \"Raushan\"\n",
        "age = 21\n",
        "\n",
        "print(\"My name is\", name)\n",
        "print(\"My age is\", age)\n"
      ],
      "metadata": {
        "colab": {
          "base_uri": "https://localhost:8080/"
        },
        "id": "hkU-BB-aQRkp",
        "outputId": "90979709-0c74-4a27-ee7a-ddaed269174a"
      },
      "execution_count": null,
      "outputs": [
        {
          "output_type": "stream",
          "name": "stdout",
          "text": [
            "My name is Raushan\n",
            "My age is 21\n"
          ]
        }
      ]
    },
    {
      "cell_type": "code",
      "source": [
        "# Question 3: Write code to print all the pre-defined keywords in Python using the keyword library\n",
        "\n",
        "import keyword\n",
        "\n",
        "print(\"Python keywords are:\")\n",
        "print(keyword.kwlist)\n"
      ],
      "metadata": {
        "colab": {
          "base_uri": "https://localhost:8080/"
        },
        "id": "o7X2rfpNQ5mI",
        "outputId": "3acb5c0d-c12b-434c-bddf-6fa60b266b98"
      },
      "execution_count": null,
      "outputs": [
        {
          "output_type": "stream",
          "name": "stdout",
          "text": [
            "Python keywords are:\n",
            "['False', 'None', 'True', 'and', 'as', 'assert', 'async', 'await', 'break', 'class', 'continue', 'def', 'del', 'elif', 'else', 'except', 'finally', 'for', 'from', 'global', 'if', 'import', 'in', 'is', 'lambda', 'nonlocal', 'not', 'or', 'pass', 'raise', 'return', 'try', 'while', 'with', 'yield']\n"
          ]
        }
      ]
    },
    {
      "cell_type": "code",
      "source": [
        "# Question 4:  Write a program that checks if a given word is a Python keyword\n",
        "\n",
        "import keyword\n",
        "\n",
        "word = input(\"Enter a word: \")\n",
        "\n",
        "if keyword.iskeyword(word):\n",
        "    print(word, \"is a Python keyword.\")\n",
        "else:\n",
        "    print(word, \"is not a Python keyword.\")"
      ],
      "metadata": {
        "colab": {
          "base_uri": "https://localhost:8080/"
        },
        "id": "Ip5tRmA_RQN7",
        "outputId": "8682e638-b054-4bf0-95f6-fb81423a5756"
      },
      "execution_count": null,
      "outputs": [
        {
          "output_type": "stream",
          "name": "stdout",
          "text": [
            "Enter a word: if\n",
            "if is a Python keyword.\n"
          ]
        }
      ]
    },
    {
      "cell_type": "code",
      "source": [
        "# Question 5: Create a list and tuple in Python, and demonstrate how attempting\n",
        "# to change an element works differently for each\n",
        "\n",
        "# creating a list\n",
        "my_list = [10,20,30,40]\n",
        "print(\"The original list:\", my_list)\n",
        "\n",
        "# changing an element in list\n",
        "my_list[1] = 101\n",
        "print(\"List after change:\", my_list)\n",
        "\n",
        "# creating a tuple\n",
        "my_tuple = (10,20,30,40)\n",
        "print(\"The original tuple:\", my_tuple)\n",
        "\n",
        "# trying to change an element in tuple\n",
        "my_tuple[4] = 60\n",
        "print(\"Tuple after change:\", my_tuple)   # this will give an error\n",
        "\n",
        "#The list will update successfully, but the tuple will give an error since it cannot be changed"
      ],
      "metadata": {
        "id": "jIfMA0JHR9qz",
        "colab": {
          "base_uri": "https://localhost:8080/",
          "height": 263
        },
        "outputId": "51bf2aaa-a92a-45ac-ef00-0f81a3e2eead"
      },
      "execution_count": null,
      "outputs": [
        {
          "output_type": "stream",
          "name": "stdout",
          "text": [
            "The original list: [10, 20, 30, 40]\n",
            "List after change: [10, 101, 30, 40]\n",
            "The original tuple: (10, 20, 30, 40)\n"
          ]
        },
        {
          "output_type": "error",
          "ename": "TypeError",
          "evalue": "'tuple' object does not support item assignment",
          "traceback": [
            "\u001b[0;31m---------------------------------------------------------------------------\u001b[0m",
            "\u001b[0;31mTypeError\u001b[0m                                 Traceback (most recent call last)",
            "\u001b[0;32m/tmp/ipython-input-2829190284.py\u001b[0m in \u001b[0;36m<cell line: 0>\u001b[0;34m()\u001b[0m\n\u001b[1;32m     15\u001b[0m \u001b[0;34m\u001b[0m\u001b[0m\n\u001b[1;32m     16\u001b[0m \u001b[0;31m# trying to change an element in tuple\u001b[0m\u001b[0;34m\u001b[0m\u001b[0;34m\u001b[0m\u001b[0m\n\u001b[0;32m---> 17\u001b[0;31m \u001b[0mmy_tuple\u001b[0m\u001b[0;34m[\u001b[0m\u001b[0;36m4\u001b[0m\u001b[0;34m]\u001b[0m \u001b[0;34m=\u001b[0m \u001b[0;36m60\u001b[0m\u001b[0;34m\u001b[0m\u001b[0;34m\u001b[0m\u001b[0m\n\u001b[0m\u001b[1;32m     18\u001b[0m \u001b[0mprint\u001b[0m\u001b[0;34m(\u001b[0m\u001b[0;34m\"Tuple after change:\"\u001b[0m\u001b[0;34m,\u001b[0m \u001b[0mmy_tuple\u001b[0m\u001b[0;34m)\u001b[0m   \u001b[0;31m# this will give an error\u001b[0m\u001b[0;34m\u001b[0m\u001b[0;34m\u001b[0m\u001b[0m\n\u001b[1;32m     19\u001b[0m \u001b[0;34m\u001b[0m\u001b[0m\n",
            "\u001b[0;31mTypeError\u001b[0m: 'tuple' object does not support item assignment"
          ]
        }
      ]
    },
    {
      "cell_type": "code",
      "source": [
        "# Question 6: Write a function to demonstrate the behavior of mutable and immutable arguments\n",
        "\n",
        "# function for mutable (list)\n",
        "def change_list(mylist):\n",
        "    mylist[0] = 100       # changing first element\n",
        "\n",
        "# function for immutable (int)\n",
        "def change_number(num):\n",
        "    num = num + 10\n",
        "    return num\n",
        "\n",
        "# mutable example\n",
        "lst = [1, 2, 3]\n",
        "print(\"Original list:\", lst)\n",
        "change_list(lst)\n",
        "print(\"List after function call:\", lst)\n",
        "\n",
        "# immutable example\n",
        "x = 5\n",
        "print(\"Original number:\", x)\n",
        "new_x = change_number(x)\n",
        "print(\"Number after function call:\", new_x)\n",
        "print(\"Original number still:\", x)"
      ],
      "metadata": {
        "colab": {
          "base_uri": "https://localhost:8080/"
        },
        "id": "6EZMWZMhfgFi",
        "outputId": "466be085-ea19-415f-9063-45e223840917"
      },
      "execution_count": null,
      "outputs": [
        {
          "output_type": "stream",
          "name": "stdout",
          "text": [
            "Original list: [1, 2, 3]\n",
            "List after function call: [100, 2, 3]\n",
            "Original number: 5\n",
            "Number after function call: 15\n",
            "Original number still: 5\n"
          ]
        }
      ]
    },
    {
      "cell_type": "code",
      "source": [
        "# Question 7: Write a program that performs basic arithmetic operations on two user-input numbers\n",
        "\n",
        "# Taking the input\n",
        "a = int(input(\"Enter the first number: \"))\n",
        "b = int(input(\"Enter he second number: \"))\n",
        "\n",
        "# the arithmetic perations\n",
        "print(\"Addition:\", a+b)\n",
        "print(\"Subtraction:\", a-b)\n",
        "print(\"Multiplication:\", a*b)\n",
        "print(\"Division:\", a/b)\n",
        "\n",
        "\n"
      ],
      "metadata": {
        "colab": {
          "base_uri": "https://localhost:8080/"
        },
        "id": "6JXmspLokTTs",
        "outputId": "4f33003f-42c2-4882-c605-81cea8ec9c27"
      },
      "execution_count": null,
      "outputs": [
        {
          "output_type": "stream",
          "name": "stdout",
          "text": [
            "Enter the first number: 100\n",
            "Enter he second number: 90\n",
            "Addition: 190\n",
            "Subtraction: 10\n",
            "Multiplication: 9000\n",
            "Division: 1.1111111111111112\n"
          ]
        }
      ]
    },
    {
      "cell_type": "code",
      "source": [
        "# Question 8: Write a program to demonstrate the use of logical operators\n",
        "\n",
        "a = 10\n",
        "b = 20\n",
        "\n",
        "# and operator\n",
        "print(a>5 and b>16)   # True\n",
        "\n",
        "# or operator\n",
        "print(a>11 or b>15)   # True\n",
        "\n",
        "# not operator\n",
        "print(not(a>16))        # True"
      ],
      "metadata": {
        "colab": {
          "base_uri": "https://localhost:8080/"
        },
        "id": "B3rfWC80n3Xn",
        "outputId": "ccb35c70-eae3-47d9-b5f6-7ec298355dca"
      },
      "execution_count": null,
      "outputs": [
        {
          "output_type": "stream",
          "name": "stdout",
          "text": [
            "True\n",
            "True\n",
            "True\n"
          ]
        }
      ]
    },
    {
      "cell_type": "code",
      "source": [
        "# Question 9: Write a Python program to convert user input from string to integer, float, and boolean types\n",
        "\n",
        "# taking user input as string\n",
        "data = input(\"Enter something: \")\n",
        "\n",
        "# converting into different types\n",
        "int_value = int(data)\n",
        "float_value = float(data)\n",
        "bool_value = bool(data)\n",
        "\n",
        "print(\"As Integer:\", int_value)\n",
        "print(\"As Float:\", float_value)\n",
        "print(\"As Boolean:\", bool_value)"
      ],
      "metadata": {
        "colab": {
          "base_uri": "https://localhost:8080/"
        },
        "id": "4479Vyn8pNmb",
        "outputId": "1481bf41-bd1e-4512-ee5f-7c2169a1d29a"
      },
      "execution_count": null,
      "outputs": [
        {
          "output_type": "stream",
          "name": "stdout",
          "text": [
            "Enter something: 1\n",
            "As Integer: 1\n",
            "As Float: 1.0\n",
            "As Boolean: True\n"
          ]
        }
      ]
    },
    {
      "cell_type": "code",
      "source": [
        "# Question 10: Write code to demonstrate type casting with list elements.\n",
        "\n",
        "# list with string numbers\n",
        "str_list = [\"10\", \"20\", \"30\"]\n",
        "\n",
        "print(\"Original list:\", str_list)\n",
        "\n",
        "# converting each element to integer\n",
        "int_list = [int(x) for x in str_list]\n",
        "print(\"List after casting to int:\", int_list)\n",
        "\n",
        "# converting each element to float\n",
        "float_list = [float(x) for x in str_list]\n",
        "print(\"List after casting to float:\", float_list)"
      ],
      "metadata": {
        "colab": {
          "base_uri": "https://localhost:8080/"
        },
        "id": "q0Aco2P7qLlG",
        "outputId": "f5c64780-02b2-400a-d8a1-041fc38d898a"
      },
      "execution_count": null,
      "outputs": [
        {
          "output_type": "stream",
          "name": "stdout",
          "text": [
            "Original list: ['10', '20', '30']\n",
            "List after casting to int: [10, 20, 30]\n",
            "List after casting to float: [10.0, 20.0, 30.0]\n"
          ]
        }
      ]
    },
    {
      "cell_type": "code",
      "source": [
        "# Question 11: Write a program that checks if a number is positive, negative, or zero\n",
        "\n",
        "num = int(input(\"Enter a number: \"))\n",
        "\n",
        "if num > 0:\n",
        "    print(\"The number is Positive\")\n",
        "elif num < 0:\n",
        "    print(\"The number is Negative\")\n",
        "else:\n",
        "    print(\"The number is Zero\")"
      ],
      "metadata": {
        "colab": {
          "base_uri": "https://localhost:8080/"
        },
        "id": "-QYq1p3FsqPd",
        "outputId": "bc683079-639c-4e03-950e-9dcc78b5ce96"
      },
      "execution_count": null,
      "outputs": [
        {
          "output_type": "stream",
          "name": "stdout",
          "text": [
            "Enter a number: 11\n",
            "The number is Positive\n"
          ]
        }
      ]
    },
    {
      "cell_type": "code",
      "source": [
        "# Question 12: Write a for loop to print numbers from 1 to 10\n",
        "\n",
        "for i in range(1,11):\n",
        "  print(i)"
      ],
      "metadata": {
        "colab": {
          "base_uri": "https://localhost:8080/"
        },
        "id": "0fdy23iUtTI4",
        "outputId": "70b22111-2675-4c27-93d8-459b90598b1c"
      },
      "execution_count": null,
      "outputs": [
        {
          "output_type": "stream",
          "name": "stdout",
          "text": [
            "1\n",
            "2\n",
            "3\n",
            "4\n",
            "5\n",
            "6\n",
            "7\n",
            "8\n",
            "9\n",
            "10\n"
          ]
        }
      ]
    },
    {
      "cell_type": "code",
      "source": [
        "# Question 13: Write a Python program to find the sum of all even numbers between 1 and 50\n",
        "\n",
        "total = 0\n",
        "for i in range(1,51):\n",
        "  if i%2 == 0:\n",
        "    total +=i\n",
        "print(\"The sum of all even numbers between 1 and 50 is:\", total)"
      ],
      "metadata": {
        "colab": {
          "base_uri": "https://localhost:8080/"
        },
        "id": "z9PvL9-qtj2C",
        "outputId": "d27cb1e1-4643-4b8c-d01a-e9482f458ad4"
      },
      "execution_count": null,
      "outputs": [
        {
          "output_type": "stream",
          "name": "stdout",
          "text": [
            "The sum of all even numbers between 1 and 50 is: 650\n"
          ]
        }
      ]
    },
    {
      "cell_type": "code",
      "source": [
        "# Question 14: Write a program to reverse a string using a while loop\n",
        "\n",
        "s = input(\"Enter a string: \")\n",
        "rev = \"\"\n",
        "i = len(s) - 1\n",
        "\n",
        "while i >= 0:\n",
        "    rev += s[i]\n",
        "    i -= 1\n",
        "\n",
        "print(\"Reversed string:\", rev)"
      ],
      "metadata": {
        "colab": {
          "base_uri": "https://localhost:8080/"
        },
        "id": "vZHqWH3yvEfL",
        "outputId": "8e1e7c52-68ac-473f-abb9-8aacbea0c9c8"
      },
      "execution_count": null,
      "outputs": [
        {
          "output_type": "stream",
          "name": "stdout",
          "text": [
            "Enter a string: Hello\n",
            "Reversed string: olleH\n"
          ]
        }
      ]
    },
    {
      "cell_type": "code",
      "source": [
        "# Question 15: Write a Python program to calculate the factorial of a number provided by the user using a while loop\n",
        "\n",
        "num = int(input(\"Enter a number: \"))\n",
        "fact = 1\n",
        "i = 1\n",
        "\n",
        "while i <= num:\n",
        "    fact = fact * i\n",
        "    i += 1\n",
        "\n",
        "print(\"Factorial of\", num, \"is:\", fact)"
      ],
      "metadata": {
        "colab": {
          "base_uri": "https://localhost:8080/"
        },
        "id": "TuisQYRTy1-r",
        "outputId": "13c555c8-a500-4a34-b493-f5702e607d79"
      },
      "execution_count": null,
      "outputs": [
        {
          "output_type": "stream",
          "name": "stdout",
          "text": [
            "Enter a number: 9\n",
            "Factorial of 9 is: 362880\n"
          ]
        }
      ]
    },
    {
      "cell_type": "code",
      "source": [],
      "metadata": {
        "id": "NbfXBunI0DYq"
      },
      "execution_count": null,
      "outputs": []
    }
  ]
}